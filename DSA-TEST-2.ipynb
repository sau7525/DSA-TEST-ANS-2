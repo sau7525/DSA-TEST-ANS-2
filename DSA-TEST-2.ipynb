{
 "cells": [
  {
   "cell_type": "code",
   "execution_count": 1,
   "id": "c26bb61e-8849-4d9d-b661-610101f39bee",
   "metadata": {},
   "outputs": [
    {
     "name": "stdout",
     "output_type": "stream",
     "text": [
      "0\n",
      "2\n",
      "-1\n"
     ]
    }
   ],
   "source": [
    "def firstUniqChar(s):\n",
    "    \n",
    "    freq = {}\n",
    "    \n",
    "    \n",
    "    for char in s:\n",
    "        freq[char] = freq.get(char, 0) + 1\n",
    "    \n",
    "    \n",
    "    for i in range(len(s)):\n",
    "        if freq[s[i]] == 1:\n",
    "            return i\n",
    "    \n",
    "    \n",
    "    return -1\n",
    "\n",
    "\n",
    "s1 = \"leetcode\"\n",
    "print(firstUniqChar(s1))  \n",
    "\n",
    "\n",
    "s2 = \"loveleetcode\"\n",
    "print(firstUniqChar(s2))  \n",
    "\n",
    "\n",
    "s3 = \"aabb\"\n",
    "print(firstUniqChar(s3))  \n",
    "\n",
    "\n",
    "\n",
    "\n",
    "\n",
    "\n"
   ]
  },
  {
   "cell_type": "code",
   "execution_count": null,
   "id": "e9cf140f-7981-48e9-b0b8-cdaa8e1f16ec",
   "metadata": {},
   "outputs": [],
   "source": []
  }
 ],
 "metadata": {
  "kernelspec": {
   "display_name": "Python 3 (ipykernel)",
   "language": "python",
   "name": "python3"
  },
  "language_info": {
   "codemirror_mode": {
    "name": "ipython",
    "version": 3
   },
   "file_extension": ".py",
   "mimetype": "text/x-python",
   "name": "python",
   "nbconvert_exporter": "python",
   "pygments_lexer": "ipython3",
   "version": "3.10.8"
  }
 },
 "nbformat": 4,
 "nbformat_minor": 5
}
